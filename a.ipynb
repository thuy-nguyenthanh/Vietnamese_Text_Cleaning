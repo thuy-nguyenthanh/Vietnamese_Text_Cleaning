{
 "cells": [
  {
   "cell_type": "code",
   "execution_count": 4,
   "metadata": {},
   "outputs": [],
   "source": [
    "import viprocessing as vip"
   ]
  },
  {
   "cell_type": "code",
   "execution_count": 5,
   "metadata": {},
   "outputs": [
    {
     "ename": "AttributeError",
     "evalue": "module 'viprocessing' has no attribute 'remove_specChar'",
     "output_type": "error",
     "traceback": [
      "\u001b[1;31m---------------------------------------------------------------------------\u001b[0m",
      "\u001b[1;31mAttributeError\u001b[0m                            Traceback (most recent call last)",
      "Cell \u001b[1;32mIn[5], line 6\u001b[0m\n\u001b[0;32m      1\u001b[0m text\u001b[38;5;241m=\u001b[39m\u001b[38;5;124m\"\u001b[39m\u001b[38;5;124mgiam gia 30\u001b[39m\u001b[38;5;124m%\u001b[39m\u001b[38;5;124m\"\u001b[39m\n\u001b[0;32m      2\u001b[0m \u001b[38;5;66;03m# _unit=Units(text)\u001b[39;00m\n\u001b[0;32m      3\u001b[0m \u001b[38;5;66;03m# print(_unit.all_units())\u001b[39;00m\n\u001b[0;32m      4\u001b[0m \u001b[38;5;66;03m# vip.normalize_units(text)\u001b[39;00m\n\u001b[1;32m----> 6\u001b[0m result \u001b[38;5;241m=\u001b[39m \u001b[43mvip\u001b[49m\u001b[38;5;241;43m.\u001b[39;49m\u001b[43mremove_specChar\u001b[49m(text)\n\u001b[0;32m      7\u001b[0m \u001b[38;5;28mprint\u001b[39m(result)\n",
      "\u001b[1;31mAttributeError\u001b[0m: module 'viprocessing' has no attribute 'remove_specChar'"
     ]
    }
   ],
   "source": [
    "text=\"giam gia 30%\"\n",
    "# _unit=Units(text)\n",
    "# print(_unit.all_units())\n",
    "# vip.normalize_units(text)\n",
    "\n",
    "result = vip.remove_specChar(text)\n",
    "print(result)\n"
   ]
  }
 ],
 "metadata": {
  "kernelspec": {
   "display_name": "Python 3",
   "language": "python",
   "name": "python3"
  },
  "language_info": {
   "codemirror_mode": {
    "name": "ipython",
    "version": 3
   },
   "file_extension": ".py",
   "mimetype": "text/x-python",
   "name": "python",
   "nbconvert_exporter": "python",
   "pygments_lexer": "ipython3",
   "version": "3.9.13"
  }
 },
 "nbformat": 4,
 "nbformat_minor": 2
}
